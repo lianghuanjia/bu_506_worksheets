{
 "cells": [
  {
   "attachments": {},
   "cell_type": "markdown",
   "metadata": {},
   "source": [
    "# Worksheet 08\n",
    "\n",
    "Name:  \n",
    "UID: \n",
    "\n",
    "### Topics\n",
    "\n",
    "- Soft Clustering\n",
    "- Clustering Aggregation\n",
    "\n",
    "### Probability Review\n",
    "\n",
    "Read through [the following](https://medium.com/@gallettilance/overview-of-probability-3272b72c82c8)\n",
    "\n",
    "### Soft Clustering\n",
    "\n",
    "We generate 10 data points that come from a normal distribution with mean 5 and variance 1."
   ]
  },
  {
   "cell_type": "code",
   "execution_count": 23,
   "metadata": {},
   "outputs": [
    {
     "name": "stdout",
     "output_type": "stream",
     "text": [
      "[5.084247933759138, 4.095385543896985, 6.885704088482912, 4.641264188472668, 5.173874072362352, 6.036183605212701, 4.841362794758202, 4.494678373164601, 3.765203625884911, 5.792104546771135]\n"
     ]
    }
   ],
   "source": [
    "import random\n",
    "import numpy as np\n",
    "from sklearn.cluster import KMeans\n",
    "\n",
    "mean = 5\n",
    "stdev = 1\n",
    "\n",
    "s1 = np.random.normal(mean, stdev, 10).tolist()\n",
    "print(s1)"
   ]
  },
  {
   "cell_type": "markdown",
   "metadata": {},
   "source": [
    "a) Generate 10 more data points, this time coming from a normal distribution with mean 8 and variance 1."
   ]
  },
  {
   "cell_type": "code",
   "execution_count": 24,
   "metadata": {},
   "outputs": [
    {
     "name": "stdout",
     "output_type": "stream",
     "text": [
      "[10.433794363071637, 8.515672609317235, 8.93075536582118, 6.44849231924967, 7.5779582767570925, 8.88420132846315, 6.722930858748742, 8.996701206054665, 8.025386305256077, 6.961594705954233]\n"
     ]
    }
   ],
   "source": [
    "s2 = np.random.normal( 8, 1 , 10 ).tolist()\n",
    "print(s2)"
   ]
  },
  {
   "cell_type": "markdown",
   "metadata": {},
   "source": [
    "b) Flip a fair coin 10 times. If the coin lands on H, then pick the last data point of `c1` and remove it from `c1`, if T then pick the last data point from `c2` and remove it from `c2`. Add these 10 points to a list called `data`."
   ]
  },
  {
   "cell_type": "code",
   "execution_count": 25,
   "metadata": {},
   "outputs": [
    {
     "name": "stdout",
     "output_type": "stream",
     "text": [
      "[5.792104546771135, 6.961594705954233, 8.025386305256077, 3.765203625884911, 8.996701206054665, 4.494678373164601, 4.841362794758202, 6.036183605212701, 5.173874072362352, 6.722930858748742]\n"
     ]
    }
   ],
   "source": [
    "data = []\n",
    "for i in range(10):\n",
    "    # flip coin\n",
    "    coin_output = random.choice([0, 1])\n",
    "    if coin_output == 0:\n",
    "        p1 = s1.pop()\n",
    "        data.append(p1)\n",
    "    else:\n",
    "        p2 = s2.pop()\n",
    "        data.append(p2)\n",
    "print(data)"
   ]
  },
  {
   "cell_type": "markdown",
   "metadata": {},
   "source": [
    "c) This `data` is a Gaussian Mixture Distribution with 2 mixture components. Over the next few questions we will walk through the GMM algorithm to see if we can uncover the parameters we used to generate this data. First, please list all these parameters of the GMM that created `data` and the values we know they have."
   ]
  },
  {
   "cell_type": "markdown",
   "metadata": {},
   "source": []
  },
  {
   "cell_type": "markdown",
   "metadata": {},
   "source": [
    "d) Let's assume there are two mixture components (note: we could plot the data and make the observation that there are two clusters). The EM algorithm asks us to start with a random `mean_j`, `variance_j`, `P(S_j)` for each component j. One method we could use to find sensible values for these is to apply K means with k=2 here.\n",
    "\n",
    "1. the centroids would be the estimates of the `mean_j`\n",
    "2. the intra-cluster variance could be the estimate of `variance_j`\n",
    "3. the proportion of points in each cluster could be the estimate of `P(S_j)`\n",
    "\n",
    "Go through this process and list the parameter estimates it gives. Are they close or far from the true values?"
   ]
  },
  {
   "cell_type": "code",
   "execution_count": 26,
   "metadata": {},
   "outputs": [
    {
     "name": "stdout",
     "output_type": "stream",
     "text": [
      "[6.961594705954233, 8.025386305256077, 8.996701206054665, 6.722930858748742]\n",
      "[5.792104546771135, 3.765203625884911, 4.494678373164601, 4.841362794758202, 6.036183605212701, 5.173874072362352]\n",
      "P(S_1) = 0.4,  P(S_2) = 0.6\n",
      "mean_1 = 7.67665326900343,  mean_2 = 5.017234503025651\n",
      "var_1 = 0.8212591177748012,  var_2 = 0.5891323160269984\n"
     ]
    },
    {
     "name": "stderr",
     "output_type": "stream",
     "text": [
      "/opt/homebrew/lib/python3.11/site-packages/sklearn/cluster/_kmeans.py:1416: FutureWarning: The default value of `n_init` will change from 10 to 'auto' in 1.4. Set the value of `n_init` explicitly to suppress the warning\n",
      "  super()._check_params_vs_input(X, default_n_init=10)\n"
     ]
    }
   ],
   "source": [
    "kmeans = KMeans(2, init='k-means++').fit(X=np.array(data).reshape(-1, 1))\n",
    "\n",
    "s1 = [x[0] for x in filter(lambda x: x[1] == 0, zip(data, kmeans.labels_))]\n",
    "print(s1)\n",
    "s2 = [x[0] for x in filter(lambda x: x[1] == 1, zip(data, kmeans.labels_))]\n",
    "print(s2)\n",
    "\n",
    "prob_s = [ len(s1) / (len(s1) + len(s2)) , len(s2) / (len(s1) + len(s2)) ]\n",
    "mean = [ sum(s1)/len(s1) , sum(s2)/len(s2) ]\n",
    "var = [ sum(map(lambda x : (x - mean[0])**2, s1)) / len(s1) , sum(map(lambda x : (x - mean[1])**2, s2)) / len(s2) ]\n",
    "\n",
    "print(\"P(S_1) = \" + str(prob_s[0]) + \",  P(S_2) = \" + str(prob_s[1]))\n",
    "print(\"mean_1 = \" + str(mean[0]) + \",  mean_2 = \" + str(mean[1]))\n",
    "print(\"var_1 = \" + str(var[0]) + \",  var_2 = \" + str(var[1]))"
   ]
  },
  {
   "cell_type": "markdown",
   "metadata": {},
   "source": []
  },
  {
   "cell_type": "markdown",
   "metadata": {},
   "source": [
    "e) For each data point, compute `P(S_j | X_i)`. Comment on which cluster you think each point belongs to based on the estimated probabilities. How does that compare to the truth?"
   ]
  },
  {
   "cell_type": "code",
   "execution_count": 27,
   "metadata": {},
   "outputs": [
    {
     "name": "stdout",
     "output_type": "stream",
     "text": [
      "point =  5.792104546771135\n",
      "probability of observing that point if it came from cluster 0 =  0.03491421840766667\n",
      "probability of observing that point if it came from cluster 1 =  0.2851311382809552\n",
      "point =  6.961594705954233\n",
      "probability of observing that point if it came from cluster 0 =  0.33251553001511813\n",
      "probability of observing that point if it came from cluster 1 =  0.0029202490009122483\n",
      "point =  8.025386305256077\n",
      "probability of observing that point if it came from cluster 0 =  0.44389014712122793\n",
      "probability of observing that point if it came from cluster 1 =  1.476527106047361e-06\n",
      "point =  3.765203625884911\n",
      "probability of observing that point if it came from cluster 0 =  5.763861937561827e-06\n",
      "probability of observing that point if it came from cluster 1 =  0.0707858332786002\n",
      "point =  8.996701206054665\n",
      "probability of observing that point if it came from cluster 0 =  0.13348005004703406\n",
      "probability of observing that point if it came from cluster 1 =  8.372808311046249e-11\n",
      "point =  4.494678373164601\n",
      "probability of observing that point if it came from cluster 0 =  0.0002670893122687259\n",
      "probability of observing that point if it came from cluster 1 =  0.4569358899666093\n",
      "point =  4.841362794758202\n",
      "probability of observing that point if it came from cluster 0 =  0.0012539561603388118\n",
      "probability of observing that point if it came from cluster 1 =  0.6476575826769558\n",
      "point =  6.036183605212701\n",
      "probability of observing that point if it came from cluster 0 =  0.06607028487007549\n",
      "probability of observing that point if it came from cluster 1 =  0.15174548669081014\n",
      "point =  5.173874072362352\n",
      "probability of observing that point if it came from cluster 0 =  0.004674558795926347\n",
      "probability of observing that point if it came from cluster 1 =  0.6536517069464263\n",
      "point =  6.722930858748742\n",
      "probability of observing that point if it came from cluster 0 =  0.24750547765744801\n",
      "probability of observing that point if it came from cluster 1 =  0.01024337129807284\n",
      "5.792104546771135\n",
      "Probability of coming from S_1 = 0.1132081511426458\n",
      "Probability of coming from S_2 = 0.9245278992382362\n",
      "\n",
      "6.961594705954233\n",
      "Probability of coming from S_1 = 1.4804967641830318\n",
      "Probability of coming from S_2 = 0.013002157211312045\n",
      "\n",
      "8.025386305256077\n",
      "Probability of coming from S_1 = 1.4999925157847402\n",
      "Probability of coming from S_2 = 4.989476839681866e-06\n",
      "\n",
      "3.765203625884911\n",
      "Probability of coming from S_1 = 8.142235245592272e-05\n",
      "Probability of coming from S_2 = 0.999945718431696\n",
      "\n",
      "8.996701206054665\n",
      "Probability of coming from S_1 = 1.4999999985886414\n",
      "Probability of coming from S_2 = 9.409055847916507e-10\n",
      "\n",
      "4.494678373164601\n",
      "Probability of coming from S_1 = 0.000584294818734208\n",
      "Probability of coming from S_2 = 0.9996104701208438\n",
      "\n",
      "4.841362794758202\n",
      "Probability of coming from S_1 = 0.001933644758173372\n",
      "Probability of coming from S_2 = 0.9987109034945512\n",
      "\n",
      "6.036183605212701\n",
      "Probability of coming from S_1 = 0.3374508102120899\n",
      "Probability of coming from S_2 = 0.7750327931919401\n",
      "\n",
      "5.173874072362352\n",
      "Probability of coming from S_1 = 0.007117518256442209\n",
      "Probability of coming from S_2 = 0.9952549878290384\n",
      "\n",
      "6.722930858748742\n",
      "Probability of coming from S_1 = 1.4123234353544607\n",
      "Probability of coming from S_2 = 0.05845104309702607\n",
      "\n"
     ]
    }
   ],
   "source": [
    "from scipy.stats import norm\n",
    "\n",
    "prob_s0_x = [] # P(S_0 | X_i)\n",
    "prob_s1_x = [] # P(S_1 | X_i)\n",
    "prob_x = [] # P(X_i)\n",
    "\n",
    "k = 2\n",
    "\n",
    "for p in data:\n",
    "    print(\"point = \", p)\n",
    "    pdf_i = []\n",
    "\n",
    "    for j in range(k):\n",
    "        # P(X_i | S_j)\n",
    "        pdf_i.append(norm.pdf(p, mean[j], var[j]))\n",
    "        print(\"probability of observing that point if it came from cluster \" + str(j) + \" = \", pdf_i[j])\n",
    "        # P(S_j) already computed\n",
    "        prob_s[j]\n",
    "\n",
    "    # P(X_i) = P(S_0)P(X_i | S_0) + P(S_1)P(X_i | S_1)\n",
    "    prob_x = prob_s[0] * pdf_i[0] + prob_s[1] * pdf_i[1]\n",
    "\n",
    "    # P(S_j | X_i) = P(X_i | S_j)P(S_j) / P(X_i)\n",
    "    prob_s0_x.append(  pdf_i[0] * prob_s[1] / prob_x  )\n",
    "    prob_s1_x.append(  pdf_i[1] * prob_s[1] / prob_x  )\n",
    "\n",
    "probs = zip(data, prob_s0_x, prob_s1_x)\n",
    "for p in probs:\n",
    "    print(p[0])\n",
    "    print(\"Probability of coming from S_1 = \" + str(p[1]))\n",
    "    print(\"Probability of coming from S_2 = \" + str(p[2]))\n",
    "    print()\n"
   ]
  },
  {
   "cell_type": "markdown",
   "metadata": {},
   "source": [
    "f) Having computed `P(S_j | X_i)`, update the estimates of `mean_j`, `var_j`, and `P(S_j)`. How different are these values from the original ones you got from K means? briefly comment."
   ]
  },
  {
   "cell_type": "code",
   "execution_count": 28,
   "metadata": {},
   "outputs": [
    {
     "name": "stdout",
     "output_type": "stream",
     "text": [
      "P(S_1) = 0.4,  P(S_2) = 0.6\n",
      "mean_1 = 7.567285295539811,  mean_2 = 4.988965017039782\n",
      "var_1 = 0.9663364997338928,  var_2 = 0.6019920836350043\n"
     ]
    }
   ],
   "source": [
    "prob_c = [sum(prob_s0_x)/ len(prob_s0_x), sum(prob_s1_x) / len(prob_s1_x) ]\n",
    "mean = [sum([x[0] * x[1] for x in zip(prob_s0_x, data)]) / sum(prob_s0_x), sum([x[0] * x[1] for x in zip(prob_s1_x, data)]) / sum(prob_s1_x) ]\n",
    "var = [sum([prob_s0_x[i] * (data[i] - mean[0])**2 for i in range(len(data))]) / sum(prob_s0_x), sum([prob_s1_x[i] * (data[i] - mean[1])**2 for i in range(len(data))]) / sum(prob_s1_x)]\n",
    "\n",
    "print(\"P(S_1) = \" + str(prob_s[0]) + \",  P(S_2) = \" + str(prob_s[1]))\n",
    "print(\"mean_1 = \" + str(mean[0]) + \",  mean_2 = \" + str(mean[1]))\n",
    "print(\"var_1 = \" + str(var[0]) + \",  var_2 = \" + str(var[1]))"
   ]
  },
  {
   "cell_type": "markdown",
   "metadata": {},
   "source": []
  },
  {
   "cell_type": "markdown",
   "metadata": {},
   "source": [
    "g) Update `P(S_j | X_i)`. Comment on any differences or lack thereof you observe."
   ]
  },
  {
   "cell_type": "code",
   "execution_count": 29,
   "metadata": {},
   "outputs": [
    {
     "name": "stdout",
     "output_type": "stream",
     "text": [
      "5.792104546771135\n",
      "Probability of coming from S_1 = 0.1576130263010919\n",
      "Probability of coming from S_2 = 0.842386973698908\n",
      "\n",
      "6.961594705954233\n",
      "Probability of coming from S_1 = 0.986529125021166\n",
      "Probability of coming from S_2 = 0.013470874978833995\n",
      "\n",
      "8.025386305256077\n",
      "Probability of coming from S_1 = 0.9999919485029327\n",
      "Probability of coming from S_2 = 8.051497067395792e-06\n",
      "\n",
      "3.765203625884911\n",
      "Probability of coming from S_1 = 0.0014241463817017102\n",
      "Probability of coming from S_2 = 0.9985758536182984\n",
      "\n",
      "8.996701206054665\n",
      "Probability of coming from S_1 = 0.9999999982922658\n",
      "Probability of coming from S_2 = 1.7077342045253492e-09\n",
      "\n",
      "4.494678373164601\n",
      "Probability of coming from S_1 = 0.003696323170177214\n",
      "Probability of coming from S_2 = 0.9963036768298227\n",
      "\n",
      "4.841362794758202\n",
      "Probability of coming from S_1 = 0.007943979236241284\n",
      "Probability of coming from S_2 = 0.9920560207637587\n",
      "\n",
      "6.036183605212701\n",
      "Probability of coming from S_1 = 0.3495829653691931\n",
      "Probability of coming from S_2 = 0.650417034630807\n",
      "\n",
      "5.173874072362352\n",
      "Probability of coming from S_1 = 0.01986366339712152\n",
      "Probability of coming from S_2 = 0.9801363366028785\n",
      "\n",
      "6.722930858748742\n",
      "Probability of coming from S_1 = 0.9472413037066197\n",
      "Probability of coming from S_2 = 0.05275869629338026\n",
      "\n"
     ]
    }
   ],
   "source": [
    "prob_s0_x = []\n",
    "prob_s1_x = []\n",
    "\n",
    "for p in data:\n",
    "    pdf_i = [norm.pdf(p, mean[j], var[j]) for j in range(k)]\n",
    "    prob_x = prob_s[0] * pdf_i[0] + prob_s[1] * pdf_i[1]\n",
    "\n",
    "    prob_s0_x.append(pdf_i[0] * prob_s[0] / prob_x)\n",
    "    prob_s1_x.append(pdf_i[1] * prob_s[1] / prob_x)\n",
    "\n",
    "probs = zip(data, prob_s0_x, prob_s1_x)\n",
    "for p in probs:\n",
    "    print(p[0])\n",
    "    print(\"Probability of coming from S_1 = \" + str(p[1]))\n",
    "    print(\"Probability of coming from S_2 = \" + str(p[2]))\n",
    "    print()"
   ]
  },
  {
   "cell_type": "markdown",
   "metadata": {},
   "source": []
  },
  {
   "cell_type": "markdown",
   "metadata": {},
   "source": [
    "h) Use `P(S_j | X_i)` to create a hard assignment - label each point as belonging to a specific cluster (0 or 1)"
   ]
  },
  {
   "cell_type": "code",
   "execution_count": 30,
   "metadata": {},
   "outputs": [
    {
     "name": "stdout",
     "output_type": "stream",
     "text": [
      "[1, 0, 0, 1, 0, 1, 1, 1, 1, 0]\n"
     ]
    }
   ],
   "source": [
    "labels = [0 if prob_s0_x[i] > prob_s1_x[i] else 1 for i in range(len(data))]\n",
    "print(labels)"
   ]
  }
 ],
 "metadata": {
  "kernelspec": {
   "display_name": "Python 3",
   "language": "python",
   "name": "python3"
  },
  "language_info": {
   "codemirror_mode": {
    "name": "ipython",
    "version": 3
   },
   "file_extension": ".py",
   "mimetype": "text/x-python",
   "name": "python",
   "nbconvert_exporter": "python",
   "pygments_lexer": "ipython3",
   "version": "3.11.5"
  },
  "orig_nbformat": 4,
  "vscode": {
   "interpreter": {
    "hash": "e7370f93d1d0cde622a1f8e1c04877d8463912d04d973331ad4851f04de6915a"
   }
  }
 },
 "nbformat": 4,
 "nbformat_minor": 2
}
